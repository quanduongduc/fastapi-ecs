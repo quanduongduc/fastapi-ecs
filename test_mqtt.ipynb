{
 "cells": [
  {
   "cell_type": "code",
   "execution_count": null,
   "metadata": {},
   "outputs": [],
   "source": [
    "import json\n",
    "import paho.mqtt.client as mqtt\n",
    "mqtt_broker_port = 1883\n",
    "mqtt_broker_host = (\n",
    "    \"fastapi-ecs-dev-mqtt-nlb-6ebce59-73957a14f2058112.elb.ap-northeast-1.amazonaws.com\"\n",
    ")\n",
    "# Load the location list\n",
    "with open(\"api/migrations/location_list.json\", \"r\") as f:\n",
    "    locations = json.load(f)\n",
    "\n",
    "# Create an MQTT client\n",
    "client = mqtt.Client()\n",
    "\n",
    "# Connect to the MQTT broker\n",
    "client.connect(mqtt_broker_host, mqtt_broker_port)\n",
    "\n",
    "# For each 50 locations, publish a message\n",
    "for i in range(0, len(locations), 100):\n",
    "    message = locations[i : i + 100]\n",
    "    client.publish(\"source_files\", json.dumps(message))\n",
    "\n",
    "# Disconnect from the MQTT broker\n",
    "client.disconnect()"
   ]
  },
  {
   "cell_type": "code",
   "execution_count": null,
   "metadata": {},
   "outputs": [],
   "source": [
    "# The callback for when the client receives a CONNACK response from the server.\n",
    "import paho.mqtt.client as mqtt\n",
    "import time\n",
    "\n",
    "mqtt_broker_port = 1883\n",
    "mqtt_broker_host = (\n",
    "    \"fastapi-ecs-dev-mqtt-nlb-6ebce59-73957a14f2058112.elb.ap-northeast-1.amazonaws.com\"\n",
    ")\n",
    "\n",
    "message_count = 0\n",
    "start_time = time.time()\n",
    "\n",
    "def on_connect(client, userdata, flags, rc):\n",
    "    print(\"Connected with result code \" + str(rc))\n",
    "    client.subscribe(\"weather/processed/#\")\n",
    "\n",
    "\n",
    "def on_message(client, userdata, msg):\n",
    "    global message_count\n",
    "    message_count += 1\n",
    "    elapsed_time = time.time() - start_time\n",
    "    messages_per_second = message_count / elapsed_time\n",
    "    print(\n",
    "        f\"Messages per second: {messages_per_second}  \"\n",
    "    )\n",
    "client = mqtt.Client()\n",
    "\n",
    "client.connect(mqtt_broker_host, mqtt_broker_port)\n",
    "client.on_connect = on_connect\n",
    "client.on_message = on_message\n",
    "\n",
    "client.loop_forever()"
   ]
  }
 ],
 "metadata": {
  "kernelspec": {
   "display_name": "venv",
   "language": "python",
   "name": "python3"
  },
  "language_info": {
   "codemirror_mode": {
    "name": "ipython",
    "version": 3
   },
   "file_extension": ".py",
   "mimetype": "text/x-python",
   "name": "python",
   "nbconvert_exporter": "python",
   "pygments_lexer": "ipython3",
   "version": "3.11.9"
  }
 },
 "nbformat": 4,
 "nbformat_minor": 2
}
